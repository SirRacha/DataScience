{
 "cells": [
  {
   "cell_type": "code",
   "execution_count": 12,
   "metadata": {},
   "outputs": [
    {
     "name": "stdout",
     "output_type": "stream",
     "text": [
      "<Response [200]>\n",
      "{'longitude': '-64.4496', 'latitude': '1.8222'}\n",
      "1.8222\n"
     ]
    }
   ],
   "source": [
    "import requests \n",
    "import json\n",
    "\n",
    "url = 'http://api.open-notify.org/iss-now.json'\n",
    "response = requests.get(url)\n",
    "print(response)\n",
    "result = json.loads(response.text)\n",
    "print(result['iss_position'])\n",
    "\n",
    "#Let's actually drill down a little on this...\n",
    "location = result['iss_position']\n",
    "print(location['latitude'])\n"
   ]
  },
  {
   "cell_type": "code",
   "execution_count": 15,
   "metadata": {},
   "outputs": [
    {
     "name": "stdout",
     "output_type": "stream",
     "text": [
      "200\n",
      "b'{\\n  \"message\": \"success\", \\n  \"request\": {\\n    \"altitude\": 100, \\n    \"datetime\": 1519419236, \\n    \"latitude\": 40.71, \\n    \"longitude\": -74.0, \\n    \"passes\": 5\\n  }, \\n  \"response\": [\\n    {\\n      \"duration\": 367, \\n      \"risetime\": 1519466802\\n    }, \\n    {\\n      \"duration\": 632, \\n      \"risetime\": 1519472415\\n    }, \\n    {\\n      \"duration\": 610, \\n      \"risetime\": 1519478223\\n    }, \\n    {\\n      \"duration\": 546, \\n      \"risetime\": 1519484096\\n    }, \\n    {\\n      \"duration\": 580, \\n      \"risetime\": 1519489928\\n    }\\n  ]\\n}\\n'\n",
      "b'{\\n  \"message\": \"success\", \\n  \"request\": {\\n    \"altitude\": 100, \\n    \"datetime\": 1519419236, \\n    \"latitude\": 40.71, \\n    \"longitude\": -74.0, \\n    \"passes\": 5\\n  }, \\n  \"response\": [\\n    {\\n      \"duration\": 367, \\n      \"risetime\": 1519466802\\n    }, \\n    {\\n      \"duration\": 632, \\n      \"risetime\": 1519472415\\n    }, \\n    {\\n      \"duration\": 610, \\n      \"risetime\": 1519478223\\n    }, \\n    {\\n      \"duration\": 546, \\n      \"risetime\": 1519484096\\n    }, \\n    {\\n      \"duration\": 580, \\n      \"risetime\": 1519489928\\n    }\\n  ]\\n}\\n'\n"
     ]
    }
   ],
   "source": [
    "# Set up the parameters we want to pass to the API.\n",
    "# This is the latitude and longitude of New York City.\n",
    "parameters = {\"lat\": 40.71, \"lon\": -74}\n",
    "\n",
    "response = get(\"http://api.open-notify.org/iss-pass.json\", params=parameters)\n",
    "print(response.status_code)\n",
    "\n",
    "\n",
    "# Print the content of the response (the data the server returned)\n",
    "print(response.content)\n",
    "\n",
    "# This gets the same data as the command above\n",
    "response = requests.get(\"http://api.open-notify.org/iss-pass.json?lat=40.71&lon=-74\")\n",
    "print(response.content)\n",
    "\n"
   ]
  },
  {
   "cell_type": "code",
   "execution_count": 16,
   "metadata": {},
   "outputs": [
    {
     "data": {
      "text/plain": [
       "'{\\n  \"message\": \"success\", \\n  \"request\": {\\n    \"altitude\": 100, \\n    \"datetime\": 1519419236, \\n    \"latitude\": 40.71, \\n    \"longitude\": -74.0, \\n    \"passes\": 5\\n  }, \\n  \"response\": [\\n    {\\n      \"duration\": 367, \\n      \"risetime\": 1519466802\\n    }, \\n    {\\n      \"duration\": 632, \\n      \"risetime\": 1519472415\\n    }, \\n    {\\n      \"duration\": 610, \\n      \"risetime\": 1519478223\\n    }, \\n    {\\n      \"duration\": 546, \\n      \"risetime\": 1519484096\\n    }, \\n    {\\n      \"duration\": 580, \\n      \"risetime\": 1519489928\\n    }\\n  ]\\n}\\n'"
      ]
     },
     "execution_count": 16,
     "metadata": {},
     "output_type": "execute_result"
    }
   ],
   "source": [
    "# convert bytes object to string\n",
    "response.content.decode(\"utf-8\")\n",
    "#Strings are the way that we pass information back and forth to APIs, \n",
    "# but it's hard to get the information we want out of them. "
   ]
  },
  {
   "cell_type": "code",
   "execution_count": 17,
   "metadata": {
    "collapsed": true
   },
   "outputs": [],
   "source": [
    "# Luckily, there's a format called JavaScript Object Notation (JSON). \n",
    "# JSON is a way to encode data structures like lists and dictionaries \n",
    "# to strings that ensures that they are easily readable by machines. \n",
    "#JSON is the primary format in which data is passed back and forth to APIs, \n",
    "# and most API servers will send their responses in JSON format.\n",
    "# The json library has two main methods:\n",
    "\n",
    "    # dumps -- Takes in a Python object, and converts it to a string.\n",
    "    # loads -- Takes a JSON string, and converts it to a Python object.\n"
   ]
  },
  {
   "cell_type": "code",
   "execution_count": 20,
   "metadata": {},
   "outputs": [
    {
     "name": "stdout",
     "output_type": "stream",
     "text": [
      "<class 'dict'>\n",
      "{'message': 'success', 'request': {'altitude': 100, 'datetime': 1519419237, 'latitude': 37.78, 'longitude': -122.41, 'passes': 5}, 'response': [{'duration': 639, 'risetime': 1519423576}, {'duration': 488, 'risetime': 1519429412}, {'duration': 401, 'risetime': 1519477847}, {'duration': 638, 'risetime': 1519483480}, {'duration': 581, 'risetime': 1519489313}]}\n"
     ]
    }
   ],
   "source": [
    "# Make the same request but with coords of San francisco\n",
    "parameters = {\"lat\": 37.78, \"lon\": -122.41}\n",
    "response = requests.get(\"http://api.open-notify.org/iss-pass.json\", params=parameters)\n",
    "# get response as python object; verify it's a dictionary\n",
    "data = response.json()\n",
    "print(type(data))\n",
    "print(data)"
   ]
  },
  {
   "cell_type": "code",
   "execution_count": 24,
   "metadata": {},
   "outputs": [
    {
     "name": "stdout",
     "output_type": "stream",
     "text": [
      "{'Server': 'nginx/1.10.3', 'Date': 'Fri, 23 Feb 2018 21:07:05 GMT', 'Content-Type': 'application/json', 'Content-Length': '521', 'Connection': 'keep-alive', 'Via': '1.1 vegur'}\n",
      "application/json\n"
     ]
    }
   ],
   "source": [
    "# API returns METADATA within RESPONSE HEADERS\n",
    "# Headers are shown as dictionary\n",
    "print(response.headers)\n",
    "\n",
    "# Get content-type from dictionary\n",
    "print(response.headers[\"content-type\"])"
   ]
  },
  {
   "cell_type": "code",
   "execution_count": 30,
   "metadata": {},
   "outputs": [
    {
     "name": "stdout",
     "output_type": "stream",
     "text": [
      "6\n",
      "{'number': 6, 'people': [{'craft': 'ISS', 'name': 'Alexander Misurkin'}, {'craft': 'ISS', 'name': 'Mark Vande Hei'}, {'craft': 'ISS', 'name': 'Joe Acaba'}, {'craft': 'ISS', 'name': 'Anton Shkaplerov'}, {'craft': 'ISS', 'name': 'Scott Tingle'}, {'craft': 'ISS', 'name': 'Norishige Kanai'}], 'message': 'success'}\n"
     ]
    }
   ],
   "source": [
    "# access astros.json API to find number of people in space currently\n",
    "# Get response from the API endpoint\n",
    "response = requests.get(\"http://api.open-notify.org/astros.json\")\n",
    "data = response.json()\n",
    "\n",
    "print(data[\"number\"])\n",
    "print(data)\n"
   ]
  },
  {
   "cell_type": "code",
   "execution_count": null,
   "metadata": {
    "collapsed": true
   },
   "outputs": [],
   "source": []
  }
 ],
 "metadata": {
  "kernelspec": {
   "display_name": "Python 3",
   "language": "python",
   "name": "python3"
  },
  "language_info": {
   "codemirror_mode": {
    "name": "ipython",
    "version": 3
   },
   "file_extension": ".py",
   "mimetype": "text/x-python",
   "name": "python",
   "nbconvert_exporter": "python",
   "pygments_lexer": "ipython3",
   "version": "3.6.2"
  }
 },
 "nbformat": 4,
 "nbformat_minor": 2
}
