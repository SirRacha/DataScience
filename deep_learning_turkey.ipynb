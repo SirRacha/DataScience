{
  "nbformat": 4,
  "nbformat_minor": 0,
  "metadata": {
    "colab": {
      "name": "deep_learning_turkey.ipynb",
      "version": "0.3.2",
      "provenance": [],
      "include_colab_link": true
    },
    "kernelspec": {
      "name": "python3",
      "display_name": "Python 3"
    },
    "accelerator": "GPU"
  },
  "cells": [
    {
      "cell_type": "markdown",
      "metadata": {
        "id": "view-in-github",
        "colab_type": "text"
      },
      "source": [
        "<a href=\"https://colab.research.google.com/github/SirRacha/DataScience/blob/master/deep_learning_turkey.ipynb\" target=\"_parent\"><img src=\"https://colab.research.google.com/assets/colab-badge.svg\" alt=\"Open In Colab\"/></a>"
      ]
    },
    {
      "cell_type": "code",
      "metadata": {
        "id": "VC7rh7ZA2BS1",
        "colab_type": "code",
        "colab": {
          "base_uri": "https://localhost:8080/",
          "height": 122
        },
        "outputId": "fe0ccdd9-c46d-4422-fd77-4a49fc7c57ec"
      },
      "source": [
        "from google.colab import drive\n",
        "drive.mount('/content/drive/')"
      ],
      "execution_count": 1,
      "outputs": [
        {
          "output_type": "stream",
          "text": [
            "Go to this URL in a browser: https://accounts.google.com/o/oauth2/auth?client_id=947318989803-6bn6qk8qdgf4n4g3pfee6491hc0brc4i.apps.googleusercontent.com&redirect_uri=urn%3Aietf%3Awg%3Aoauth%3A2.0%3Aoob&scope=email%20https%3A%2F%2Fwww.googleapis.com%2Fauth%2Fdocs.test%20https%3A%2F%2Fwww.googleapis.com%2Fauth%2Fdrive%20https%3A%2F%2Fwww.googleapis.com%2Fauth%2Fdrive.photos.readonly%20https%3A%2F%2Fwww.googleapis.com%2Fauth%2Fpeopleapi.readonly&response_type=code\n",
            "\n",
            "Enter your authorization code:\n",
            "··········\n",
            "Mounted at /content/drive/\n"
          ],
          "name": "stdout"
        }
      ]
    },
    {
      "cell_type": "code",
      "metadata": {
        "id": "OspvsfE83FsW",
        "colab_type": "code",
        "colab": {
          "base_uri": "https://localhost:8080/",
          "height": 1000
        },
        "outputId": "0c2ef770-f65b-423e-f6a4-3312e81c5a85"
      },
      "source": [
        "!ls \"/content/drive/My Drive/\""
      ],
      "execution_count": 3,
      "outputs": [
        {
          "output_type": "stream",
          "text": [
            "'AI_Project_Canvas_Editable (1).gdoc'\n",
            " AI_Project_Canvas_Editable.gdoc\n",
            " bash_profile.txt\n",
            " bashrc.txt\n",
            "'Beckemeyer_LinuxAcademy CSA-A Notes.pdf'\n",
            " CameraZOOM-20150329164142894.jpg\n",
            "'_CHolland Masters Thesis Final Draft copy 2.doc'\n",
            " Chris-Holland-Adjusted.jpg\n",
            "'_Chris Hollands Resume_ANALYST.doc'\n",
            "'_Chris Hollands Resume_DATA Analyst - Civ.doc'\n",
            "'_Chris Hollands Resume_DATA Analyst - Civ.doc.gdoc'\n",
            "'_Chris Hollands Resume_Zappos.doc'\n",
            "'Colab Notebooks'\n",
            "'Copy of _Holland Resume_GovtTech_01OCT17.doc.gdoc'\n",
            "'Copy of _Holland Resume_Programmer_01OCT17.doc.gdoc'\n",
            "'DATABASE CHEAT SHEET.docx'\n",
            "'DATABASE CHEAT SHEET.DOCX'\n",
            "'DATABASE CHEAT SHEET.docx.gdoc'\n",
            " DOC\n",
            "'FSOT Study Guide 3rd Ed.pdf'\n",
            " FZPUNG.gdoc\n",
            " FZPUNG.pdf\n",
            "'Hand-held Imagery Projects.gslides'\n",
            "'Hand-held Imagery Projects.pptx'\n",
            " Holland_CoverLetter_UMissouriPSDS.docx\n",
            "'_Holland Resume_Gov_03FEB16.doc'\n",
            "'_Holland Resume_Gov_03FEB16.doc.gdoc'\n",
            "'_Holland Resume_Gov_14MAR16.doc'\n",
            "'_Holland Resume_Gov_14MAR16.doc.gdoc'\n",
            "'_Holland Resume_Gov_24MAR16_NGA.doc'\n",
            "'_Holland Resume_Gov_24MAR16_NGA.doc.gdoc'\n",
            "'_Holland Resume_Gov_Data_Vizulaization.doc.pdf'\n",
            "'_Holland Resume_Gov_Data_Vizulaization.gdoc'\n",
            "'_Holland Resume_GOVProgrammer_01OCT17.doc.gdoc'\n",
            "'_Holland Resume_LaunchCode_01OCT17.docx'\n",
            "'_Holland Resume_LaunchCode_01OCT17.docx.gdoc'\n",
            "'_Holland Resume_Ntrepid_27JULY16_NGA.doc'\n",
            "'_Holland Resume_Programmer_01OCT17.doc.docx'\n",
            "'_Holland Resume_Programmer_19JAN18.docx.gdoc'\n",
            "'_Holland Resume_Tech_01OCT17.doc.gdoc'\n",
            "'Intermediate Python Programming.zip'\n",
            "'Introduction to Python Programming'\n",
            " Leonie\n",
            "'M-1 Holland.gdoc'\n",
            "'M-1 Holland.pdf'\n",
            "'My Saved Places.gmap'\n",
            "'NGA -- QAC database discussion:.gdoc'\n",
            "'nga scan.pdf'\n",
            " PDF\n",
            "'PDFcharts 7-9-18.zip'\n",
            "'photo 1.JPG'\n",
            "'photo 3.JPG'\n",
            "'Preparing for the CSA-A Exam.docx'\n",
            "'Princeton Dates Through Closing.pdf'\n",
            "'PSDS 4100  Machine Learning3.docx'\n",
            "'PSDS 4100  Machine Learning3.gdoc'\n",
            "'PSDS 4100 Machine Learning.docx'\n",
            "'PSDS 4100 Machine Learning.gdoc'\n",
            "'PSDS Data Science'\n",
            "'Python_Cheat Sheet.docx'\n",
            "'QAC 1.5 Timeline Plan.gsheet'\n",
            " QAC_db\n",
            " QAC_db3\n",
            " QAC_db4\n",
            " QAC_db_backend\n",
            "'QAC_db_backend (1)'\n",
            "'QAC PostGIS Database Structure (1).gslides'\n",
            "'QAC PostGIS Database Structure.gslides'\n",
            "'QAC PostGIS Database Structure.pptx'\n",
            "'R and Statistics Notes (1).docx'\n",
            "'R and Statistics Notes (1).docx.gdoc'\n",
            "'R and Statistics Notes.docx'\n",
            "'R and Statistics Notes.docx.gdoc'\n",
            "'Resume, Cover Letters, CV'\n",
            " Schaefer_NIU_App_Statement.docx\n",
            " Schaefer_NIU_App_Statement.gdoc\n",
            "'Soulful Sounds'\n",
            "'Soulful Sounds, June 2010 copy.doc'\n",
            "'STATISTICS CHEATSHEET.docx'\n",
            "'STATISTICS CHEATSHEET.gdoc'\n",
            " Stats.R.Notes.gdoc\n",
            " Stats.R.Notes.rtf\n",
            " Syllabus_12_11.docx\n",
            " Syllabus_12_11.gdoc\n",
            "'_UGA transcripts.pdf'\n",
            "'Untitled Diagram.html'\n",
            " Urdu\n",
            "'_UT transcript.doc'\n"
          ],
          "name": "stdout"
        }
      ]
    },
    {
      "cell_type": "code",
      "metadata": {
        "id": "hUUTIwVH3ITg",
        "colab_type": "code",
        "colab": {}
      },
      "source": [
        "!pip install -q keras"
      ],
      "execution_count": 0,
      "outputs": []
    },
    {
      "cell_type": "code",
      "metadata": {
        "id": "Tycc15ij3Ksq",
        "colab_type": "code",
        "colab": {
          "base_uri": "https://localhost:8080/",
          "height": 1000
        },
        "outputId": "29c69ff6-c82d-4277-9bda-898460786e16"
      },
      "source": [
        "!python3 \"/content/drive/My Drive/Colab/mnist_cnn.py\""
      ],
      "execution_count": 9,
      "outputs": [
        {
          "output_type": "stream",
          "text": [
            "Using TensorFlow backend.\n",
            "Downloading data from https://s3.amazonaws.com/img-datasets/mnist.npz\n",
            "11493376/11490434 [==============================] - 0s 0us/step\n",
            "x_train shape: (60000, 28, 28, 1)\n",
            "60000 train samples\n",
            "10000 test samples\n",
            "WARNING: Logging before flag parsing goes to stderr.\n",
            "W0816 14:52:34.280465 140659411896192 deprecation_wrapper.py:119] From /usr/local/lib/python3.6/dist-packages/keras/backend/tensorflow_backend.py:74: The name tf.get_default_graph is deprecated. Please use tf.compat.v1.get_default_graph instead.\n",
            "\n",
            "W0816 14:52:34.315634 140659411896192 deprecation_wrapper.py:119] From /usr/local/lib/python3.6/dist-packages/keras/backend/tensorflow_backend.py:517: The name tf.placeholder is deprecated. Please use tf.compat.v1.placeholder instead.\n",
            "\n",
            "W0816 14:52:34.319956 140659411896192 deprecation_wrapper.py:119] From /usr/local/lib/python3.6/dist-packages/keras/backend/tensorflow_backend.py:4138: The name tf.random_uniform is deprecated. Please use tf.random.uniform instead.\n",
            "\n",
            "W0816 14:52:34.356313 140659411896192 deprecation_wrapper.py:119] From /usr/local/lib/python3.6/dist-packages/keras/backend/tensorflow_backend.py:3976: The name tf.nn.max_pool is deprecated. Please use tf.nn.max_pool2d instead.\n",
            "\n",
            "W0816 14:52:34.357779 140659411896192 deprecation_wrapper.py:119] From /usr/local/lib/python3.6/dist-packages/keras/backend/tensorflow_backend.py:133: The name tf.placeholder_with_default is deprecated. Please use tf.compat.v1.placeholder_with_default instead.\n",
            "\n",
            "W0816 14:52:34.363897 140659411896192 deprecation.py:506] From /usr/local/lib/python3.6/dist-packages/keras/backend/tensorflow_backend.py:3445: calling dropout (from tensorflow.python.ops.nn_ops) with keep_prob is deprecated and will be removed in a future version.\n",
            "Instructions for updating:\n",
            "Please use `rate` instead of `keep_prob`. Rate should be set to `rate = 1 - keep_prob`.\n",
            "W0816 14:52:34.427733 140659411896192 deprecation_wrapper.py:119] From /usr/local/lib/python3.6/dist-packages/keras/optimizers.py:790: The name tf.train.Optimizer is deprecated. Please use tf.compat.v1.train.Optimizer instead.\n",
            "\n",
            "W0816 14:52:34.433767 140659411896192 deprecation_wrapper.py:119] From /usr/local/lib/python3.6/dist-packages/keras/backend/tensorflow_backend.py:3295: The name tf.log is deprecated. Please use tf.math.log instead.\n",
            "\n",
            "W0816 14:52:34.543460 140659411896192 deprecation.py:323] From /usr/local/lib/python3.6/dist-packages/tensorflow/python/ops/math_grad.py:1250: add_dispatch_support.<locals>.wrapper (from tensorflow.python.ops.array_ops) is deprecated and will be removed in a future version.\n",
            "Instructions for updating:\n",
            "Use tf.where in 2.0, which has the same broadcast rule as np.where\n",
            "Train on 60000 samples, validate on 10000 samples\n",
            "Epoch 1/12\n",
            "2019-08-16 14:52:34.857651: I tensorflow/core/platform/profile_utils/cpu_utils.cc:94] CPU Frequency: 2300000000 Hz\n",
            "2019-08-16 14:52:34.859267: I tensorflow/compiler/xla/service/service.cc:168] XLA service 0x20072c0 executing computations on platform Host. Devices:\n",
            "2019-08-16 14:52:34.859304: I tensorflow/compiler/xla/service/service.cc:175]   StreamExecutor device (0): <undefined>, <undefined>\n",
            "2019-08-16 14:52:34.864350: I tensorflow/stream_executor/platform/default/dso_loader.cc:42] Successfully opened dynamic library libcuda.so.1\n",
            "2019-08-16 14:52:35.103821: I tensorflow/stream_executor/cuda/cuda_gpu_executor.cc:1005] successful NUMA node read from SysFS had negative value (-1), but there must be at least one NUMA node, so returning NUMA node zero\n",
            "2019-08-16 14:52:35.104338: I tensorflow/compiler/xla/service/service.cc:168] XLA service 0x8ac6700 executing computations on platform CUDA. Devices:\n",
            "2019-08-16 14:52:35.104368: I tensorflow/compiler/xla/service/service.cc:175]   StreamExecutor device (0): Tesla T4, Compute Capability 7.5\n",
            "2019-08-16 14:52:35.104638: I tensorflow/stream_executor/cuda/cuda_gpu_executor.cc:1005] successful NUMA node read from SysFS had negative value (-1), but there must be at least one NUMA node, so returning NUMA node zero\n",
            "2019-08-16 14:52:35.105003: I tensorflow/core/common_runtime/gpu/gpu_device.cc:1640] Found device 0 with properties: \n",
            "name: Tesla T4 major: 7 minor: 5 memoryClockRate(GHz): 1.59\n",
            "pciBusID: 0000:00:04.0\n",
            "2019-08-16 14:52:35.118053: I tensorflow/stream_executor/platform/default/dso_loader.cc:42] Successfully opened dynamic library libcudart.so.10.0\n",
            "2019-08-16 14:52:35.294444: I tensorflow/stream_executor/platform/default/dso_loader.cc:42] Successfully opened dynamic library libcublas.so.10.0\n",
            "2019-08-16 14:52:35.374608: I tensorflow/stream_executor/platform/default/dso_loader.cc:42] Successfully opened dynamic library libcufft.so.10.0\n",
            "2019-08-16 14:52:35.400674: I tensorflow/stream_executor/platform/default/dso_loader.cc:42] Successfully opened dynamic library libcurand.so.10.0\n",
            "2019-08-16 14:52:35.591166: I tensorflow/stream_executor/platform/default/dso_loader.cc:42] Successfully opened dynamic library libcusolver.so.10.0\n",
            "2019-08-16 14:52:35.696284: I tensorflow/stream_executor/platform/default/dso_loader.cc:42] Successfully opened dynamic library libcusparse.so.10.0\n",
            "2019-08-16 14:52:36.052561: I tensorflow/stream_executor/platform/default/dso_loader.cc:42] Successfully opened dynamic library libcudnn.so.7\n",
            "2019-08-16 14:52:36.052771: I tensorflow/stream_executor/cuda/cuda_gpu_executor.cc:1005] successful NUMA node read from SysFS had negative value (-1), but there must be at least one NUMA node, so returning NUMA node zero\n",
            "2019-08-16 14:52:36.053318: I tensorflow/stream_executor/cuda/cuda_gpu_executor.cc:1005] successful NUMA node read from SysFS had negative value (-1), but there must be at least one NUMA node, so returning NUMA node zero\n",
            "2019-08-16 14:52:36.053677: I tensorflow/core/common_runtime/gpu/gpu_device.cc:1763] Adding visible gpu devices: 0\n",
            "2019-08-16 14:52:36.057914: I tensorflow/stream_executor/platform/default/dso_loader.cc:42] Successfully opened dynamic library libcudart.so.10.0\n",
            "2019-08-16 14:52:36.059558: I tensorflow/core/common_runtime/gpu/gpu_device.cc:1181] Device interconnect StreamExecutor with strength 1 edge matrix:\n",
            "2019-08-16 14:52:36.059605: I tensorflow/core/common_runtime/gpu/gpu_device.cc:1187]      0 \n",
            "2019-08-16 14:52:36.059617: I tensorflow/core/common_runtime/gpu/gpu_device.cc:1200] 0:   N \n",
            "2019-08-16 14:52:36.062098: I tensorflow/stream_executor/cuda/cuda_gpu_executor.cc:1005] successful NUMA node read from SysFS had negative value (-1), but there must be at least one NUMA node, so returning NUMA node zero\n",
            "2019-08-16 14:52:36.062536: I tensorflow/stream_executor/cuda/cuda_gpu_executor.cc:1005] successful NUMA node read from SysFS had negative value (-1), but there must be at least one NUMA node, so returning NUMA node zero\n",
            "2019-08-16 14:52:36.062886: W tensorflow/core/common_runtime/gpu/gpu_bfc_allocator.cc:40] Overriding allow_growth setting because the TF_FORCE_GPU_ALLOW_GROWTH environment variable is set. Original config value was 0.\n",
            "2019-08-16 14:52:36.062932: I tensorflow/core/common_runtime/gpu/gpu_device.cc:1326] Created TensorFlow device (/job:localhost/replica:0/task:0/device:GPU:0 with 14202 MB memory) -> physical GPU (device: 0, name: Tesla T4, pci bus id: 0000:00:04.0, compute capability: 7.5)\n",
            "2019-08-16 14:52:38.013026: I tensorflow/stream_executor/platform/default/dso_loader.cc:42] Successfully opened dynamic library libcublas.so.10.0\n",
            "2019-08-16 14:52:38.728860: I tensorflow/stream_executor/platform/default/dso_loader.cc:42] Successfully opened dynamic library libcudnn.so.7\n",
            "60000/60000 [==============================] - 11s 190us/step - loss: 0.2705 - acc: 0.9161 - val_loss: 0.0600 - val_acc: 0.9810\n",
            "Epoch 2/12\n",
            "60000/60000 [==============================] - 4s 73us/step - loss: 0.0876 - acc: 0.9740 - val_loss: 0.0450 - val_acc: 0.9849\n",
            "Epoch 3/12\n",
            "60000/60000 [==============================] - 4s 73us/step - loss: 0.0657 - acc: 0.9814 - val_loss: 0.0390 - val_acc: 0.9869\n",
            "Epoch 4/12\n",
            "60000/60000 [==============================] - 4s 73us/step - loss: 0.0519 - acc: 0.9848 - val_loss: 0.0284 - val_acc: 0.9902\n",
            "Epoch 5/12\n",
            "60000/60000 [==============================] - 4s 73us/step - loss: 0.0452 - acc: 0.9861 - val_loss: 0.0287 - val_acc: 0.9910\n",
            "Epoch 6/12\n",
            "60000/60000 [==============================] - 4s 73us/step - loss: 0.0417 - acc: 0.9877 - val_loss: 0.0263 - val_acc: 0.9914\n",
            "Epoch 7/12\n",
            "60000/60000 [==============================] - 4s 73us/step - loss: 0.0376 - acc: 0.9886 - val_loss: 0.0278 - val_acc: 0.9902\n",
            "Epoch 8/12\n",
            "60000/60000 [==============================] - 4s 73us/step - loss: 0.0340 - acc: 0.9898 - val_loss: 0.0274 - val_acc: 0.9908\n",
            "Epoch 9/12\n",
            "60000/60000 [==============================] - 4s 73us/step - loss: 0.0305 - acc: 0.9912 - val_loss: 0.0254 - val_acc: 0.9921\n",
            "Epoch 10/12\n",
            "60000/60000 [==============================] - 4s 73us/step - loss: 0.0289 - acc: 0.9908 - val_loss: 0.0255 - val_acc: 0.9925\n",
            "Epoch 11/12\n",
            "60000/60000 [==============================] - 4s 74us/step - loss: 0.0275 - acc: 0.9918 - val_loss: 0.0251 - val_acc: 0.9921\n",
            "Epoch 12/12\n",
            "60000/60000 [==============================] - 5s 75us/step - loss: 0.0249 - acc: 0.9921 - val_loss: 0.0248 - val_acc: 0.9925\n",
            "Test loss: 0.02479279897585002\n",
            "Test accuracy: 0.9925\n"
          ],
          "name": "stdout"
        }
      ]
    },
    {
      "cell_type": "code",
      "metadata": {
        "id": "6iVfUMeS6KIh",
        "colab_type": "code",
        "colab": {
          "base_uri": "https://localhost:8080/",
          "height": 224
        },
        "outputId": "636bc2de-fc8b-4778-eb37-e79ffd405b0a"
      },
      "source": [
        "!wget https://raw.githubusercontent.com/vincentarelbundock/Rdatasets/master/csv/datasets/Titanic.csv -P \"/content/drive/My Drive/app\"\n"
      ],
      "execution_count": 12,
      "outputs": [
        {
          "output_type": "stream",
          "text": [
            "--2019-08-16 14:56:06--  https://raw.githubusercontent.com/vincentarelbundock/Rdatasets/master/csv/datasets/Titanic.csv\n",
            "Resolving raw.githubusercontent.com (raw.githubusercontent.com)... 151.101.0.133, 151.101.64.133, 151.101.128.133, ...\n",
            "Connecting to raw.githubusercontent.com (raw.githubusercontent.com)|151.101.0.133|:443... connected.\n",
            "HTTP request sent, awaiting response... 200 OK\n",
            "Length: 1170 (1.1K) [text/plain]\n",
            "Saving to: ‘/content/drive/My Drive/app/Titanic.csv’\n",
            "\n",
            "\rTitanic.csv           0%[                    ]       0  --.-KB/s               \rTitanic.csv         100%[===================>]   1.14K  --.-KB/s    in 0s      \n",
            "\n",
            "2019-08-16 14:56:07 (86.5 MB/s) - ‘/content/drive/My Drive/app/Titanic.csv’ saved [1170/1170]\n",
            "\n"
          ],
          "name": "stdout"
        }
      ]
    },
    {
      "cell_type": "code",
      "metadata": {
        "id": "T--3DHd07MkY",
        "colab_type": "code",
        "colab": {
          "base_uri": "https://localhost:8080/",
          "height": 204
        },
        "outputId": "69b0b026-087a-4c8c-b7d8-aca80a3deb4d"
      },
      "source": [
        "import pandas as pd\n",
        "titanic = pd.read_csv(\"/content/drive/My Drive/app/Titanic.csv\")\n",
        "titanic.tail(5)"
      ],
      "execution_count": 18,
      "outputs": [
        {
          "output_type": "execute_result",
          "data": {
            "text/html": [
              "<div>\n",
              "<style scoped>\n",
              "    .dataframe tbody tr th:only-of-type {\n",
              "        vertical-align: middle;\n",
              "    }\n",
              "\n",
              "    .dataframe tbody tr th {\n",
              "        vertical-align: top;\n",
              "    }\n",
              "\n",
              "    .dataframe thead th {\n",
              "        text-align: right;\n",
              "    }\n",
              "</style>\n",
              "<table border=\"1\" class=\"dataframe\">\n",
              "  <thead>\n",
              "    <tr style=\"text-align: right;\">\n",
              "      <th></th>\n",
              "      <th>Unnamed: 0</th>\n",
              "      <th>Class</th>\n",
              "      <th>Sex</th>\n",
              "      <th>Age</th>\n",
              "      <th>Survived</th>\n",
              "      <th>Freq</th>\n",
              "    </tr>\n",
              "  </thead>\n",
              "  <tbody>\n",
              "    <tr>\n",
              "      <th>27</th>\n",
              "      <td>28</td>\n",
              "      <td>Crew</td>\n",
              "      <td>Male</td>\n",
              "      <td>Adult</td>\n",
              "      <td>Yes</td>\n",
              "      <td>192</td>\n",
              "    </tr>\n",
              "    <tr>\n",
              "      <th>28</th>\n",
              "      <td>29</td>\n",
              "      <td>1st</td>\n",
              "      <td>Female</td>\n",
              "      <td>Adult</td>\n",
              "      <td>Yes</td>\n",
              "      <td>140</td>\n",
              "    </tr>\n",
              "    <tr>\n",
              "      <th>29</th>\n",
              "      <td>30</td>\n",
              "      <td>2nd</td>\n",
              "      <td>Female</td>\n",
              "      <td>Adult</td>\n",
              "      <td>Yes</td>\n",
              "      <td>80</td>\n",
              "    </tr>\n",
              "    <tr>\n",
              "      <th>30</th>\n",
              "      <td>31</td>\n",
              "      <td>3rd</td>\n",
              "      <td>Female</td>\n",
              "      <td>Adult</td>\n",
              "      <td>Yes</td>\n",
              "      <td>76</td>\n",
              "    </tr>\n",
              "    <tr>\n",
              "      <th>31</th>\n",
              "      <td>32</td>\n",
              "      <td>Crew</td>\n",
              "      <td>Female</td>\n",
              "      <td>Adult</td>\n",
              "      <td>Yes</td>\n",
              "      <td>20</td>\n",
              "    </tr>\n",
              "  </tbody>\n",
              "</table>\n",
              "</div>"
            ],
            "text/plain": [
              "    Unnamed: 0 Class     Sex    Age Survived  Freq\n",
              "27          28  Crew    Male  Adult      Yes   192\n",
              "28          29   1st  Female  Adult      Yes   140\n",
              "29          30   2nd  Female  Adult      Yes    80\n",
              "30          31   3rd  Female  Adult      Yes    76\n",
              "31          32  Crew  Female  Adult      Yes    20"
            ]
          },
          "metadata": {
            "tags": []
          },
          "execution_count": 18
        }
      ]
    },
    {
      "cell_type": "code",
      "metadata": {
        "id": "J0a3UIvOFD8q",
        "colab_type": "code",
        "colab": {
          "base_uri": "https://localhost:8080/",
          "height": 102
        },
        "outputId": "1526c9c1-5b68-4339-c967-b6465619eb14"
      },
      "source": [
        "! git clone https://github.com/titu1994/Image-Super-Resolution.git"
      ],
      "execution_count": 19,
      "outputs": [
        {
          "output_type": "stream",
          "text": [
            "Cloning into 'Image-Super-Resolution'...\n",
            "remote: Enumerating objects: 619, done.\u001b[K\n",
            "remote: Total 619 (delta 0), reused 0 (delta 0), pack-reused 619\n",
            "Receiving objects: 100% (619/619), 76.00 MiB | 34.93 MiB/s, done.\n",
            "Resolving deltas: 100% (305/305), done.\n"
          ],
          "name": "stdout"
        }
      ]
    },
    {
      "cell_type": "code",
      "metadata": {
        "id": "vEk2kAasGu2z",
        "colab_type": "code",
        "colab": {
          "base_uri": "https://localhost:8080/",
          "height": 34
        },
        "outputId": "96d12fce-18b5-4e39-8128-978e3a8f10c0"
      },
      "source": [
        "pwd\n"
      ],
      "execution_count": 20,
      "outputs": [
        {
          "output_type": "execute_result",
          "data": {
            "text/plain": [
              "'/content'"
            ]
          },
          "metadata": {
            "tags": []
          },
          "execution_count": 20
        }
      ]
    },
    {
      "cell_type": "code",
      "metadata": {
        "id": "KQgMsJnjHcNq",
        "colab_type": "code",
        "colab": {
          "base_uri": "https://localhost:8080/",
          "height": 51
        },
        "outputId": "53cf6e0c-f54d-4a01-9a8e-26e9cd3b0244"
      },
      "source": [
        "cd content/drive/My Drive/Colab"
      ],
      "execution_count": 21,
      "outputs": [
        {
          "output_type": "stream",
          "text": [
            "[Errno 2] No such file or directory: 'content/drive/My Drive/Colab'\n",
            "/content\n"
          ],
          "name": "stdout"
        }
      ]
    },
    {
      "cell_type": "code",
      "metadata": {
        "id": "b0vMMMUSHt_h",
        "colab_type": "code",
        "colab": {
          "base_uri": "https://localhost:8080/",
          "height": 34
        },
        "outputId": "c75064fd-83c9-4d79-b741-f68e9eb6a74d"
      },
      "source": [
        "ls\n"
      ],
      "execution_count": 22,
      "outputs": [
        {
          "output_type": "stream",
          "text": [
            "\u001b[0m\u001b[01;34mdrive\u001b[0m/  \u001b[01;34mImage-Super-Resolution\u001b[0m/  \u001b[01;34msample_data\u001b[0m/\n"
          ],
          "name": "stdout"
        }
      ]
    },
    {
      "cell_type": "code",
      "metadata": {
        "id": "Wot3JXrFHw7H",
        "colab_type": "code",
        "colab": {}
      },
      "source": [
        "rm -r Image-Super-Resolution"
      ],
      "execution_count": 0,
      "outputs": []
    },
    {
      "cell_type": "code",
      "metadata": {
        "id": "4FXdBOQGIjlV",
        "colab_type": "code",
        "colab": {
          "base_uri": "https://localhost:8080/",
          "height": 34
        },
        "outputId": "2cd351d6-3bd6-4f9e-c1b8-97a1091e78e3"
      },
      "source": [
        "ls\n"
      ],
      "execution_count": 24,
      "outputs": [
        {
          "output_type": "stream",
          "text": [
            "\u001b[0m\u001b[01;34mdrive\u001b[0m/  \u001b[01;34msample_data\u001b[0m/\n"
          ],
          "name": "stdout"
        }
      ]
    },
    {
      "cell_type": "code",
      "metadata": {
        "id": "q8CIAuIvIlDz",
        "colab_type": "code",
        "colab": {
          "base_uri": "https://localhost:8080/",
          "height": 102
        },
        "outputId": "20c51bc7-8046-4569-99e5-e96a47a4af02"
      },
      "source": [
        "!git clone https://github.com/titu1994/Image-Super-Resolution.git"
      ],
      "execution_count": 25,
      "outputs": [
        {
          "output_type": "stream",
          "text": [
            "Cloning into 'Image-Super-Resolution'...\n",
            "remote: Enumerating objects: 619, done.\u001b[K\n",
            "remote: Total 619 (delta 0), reused 0 (delta 0), pack-reused 619\u001b[K\n",
            "Receiving objects: 100% (619/619), 76.00 MiB | 36.15 MiB/s, done.\n",
            "Resolving deltas: 100% (305/305), done.\n"
          ],
          "name": "stdout"
        }
      ]
    },
    {
      "cell_type": "code",
      "metadata": {
        "id": "_sUDm2J4Ip6G",
        "colab_type": "code",
        "colab": {
          "base_uri": "https://localhost:8080/",
          "height": 34
        },
        "outputId": "a1312f26-5c62-42dc-af3f-03a4df90396e"
      },
      "source": [
        "ls\n"
      ],
      "execution_count": 26,
      "outputs": [
        {
          "output_type": "stream",
          "text": [
            "\u001b[0m\u001b[01;34mdrive\u001b[0m/  \u001b[01;34mImage-Super-Resolution\u001b[0m/  \u001b[01;34msample_data\u001b[0m/\n"
          ],
          "name": "stdout"
        }
      ]
    },
    {
      "cell_type": "code",
      "metadata": {
        "id": "2IRunr9kIrdT",
        "colab_type": "code",
        "colab": {}
      },
      "source": [
        "rm -r Image-Super-Resolution\n"
      ],
      "execution_count": 0,
      "outputs": []
    },
    {
      "cell_type": "code",
      "metadata": {
        "id": "XToejShWIwT1",
        "colab_type": "code",
        "colab": {
          "base_uri": "https://localhost:8080/",
          "height": 34
        },
        "outputId": "f559900a-6d18-4b10-df98-4cfb0d9dc915"
      },
      "source": [
        "ls"
      ],
      "execution_count": 28,
      "outputs": [
        {
          "output_type": "stream",
          "text": [
            "\u001b[0m\u001b[01;34mdrive\u001b[0m/  \u001b[01;34msample_data\u001b[0m/\n"
          ],
          "name": "stdout"
        }
      ]
    },
    {
      "cell_type": "code",
      "metadata": {
        "id": "0qfR3FXaIxWy",
        "colab_type": "code",
        "colab": {
          "base_uri": "https://localhost:8080/",
          "height": 34
        },
        "outputId": "77349b2b-a893-4854-cfbd-efd1b5263de9"
      },
      "source": [
        "cd drive"
      ],
      "execution_count": 29,
      "outputs": [
        {
          "output_type": "stream",
          "text": [
            "/content/drive\n"
          ],
          "name": "stdout"
        }
      ]
    },
    {
      "cell_type": "code",
      "metadata": {
        "id": "nLSRrGn6IzPD",
        "colab_type": "code",
        "colab": {
          "base_uri": "https://localhost:8080/",
          "height": 34
        },
        "outputId": "bc1c60ac-26b6-44e3-9abf-02782f4ee703"
      },
      "source": [
        "ls"
      ],
      "execution_count": 30,
      "outputs": [
        {
          "output_type": "stream",
          "text": [
            "\u001b[0m\u001b[01;34m'My Drive'\u001b[0m/\n"
          ],
          "name": "stdout"
        }
      ]
    },
    {
      "cell_type": "code",
      "metadata": {
        "id": "f3CKT0g0I0GB",
        "colab_type": "code",
        "colab": {
          "base_uri": "https://localhost:8080/",
          "height": 34
        },
        "outputId": "a0e69fcb-e0ed-4afd-b32e-bf8f136033f7"
      },
      "source": [
        "cd My Drive"
      ],
      "execution_count": 31,
      "outputs": [
        {
          "output_type": "stream",
          "text": [
            "/content/drive/My Drive\n"
          ],
          "name": "stdout"
        }
      ]
    },
    {
      "cell_type": "code",
      "metadata": {
        "id": "_1D345mxI1jv",
        "colab_type": "code",
        "colab": {
          "base_uri": "https://localhost:8080/",
          "height": 34
        },
        "outputId": "826bd7d7-2727-4256-e2a2-3113067ad38f"
      },
      "source": [
        "cd Colab"
      ],
      "execution_count": 32,
      "outputs": [
        {
          "output_type": "stream",
          "text": [
            "/content/drive/My Drive/Colab\n"
          ],
          "name": "stdout"
        }
      ]
    },
    {
      "cell_type": "code",
      "metadata": {
        "id": "WHWdVxosI6IU",
        "colab_type": "code",
        "colab": {
          "base_uri": "https://localhost:8080/",
          "height": 119
        },
        "outputId": "d83aac35-df86-424a-845a-8aad641e25b6"
      },
      "source": [
        "!git clone https://github.com/titu1994/Image-Super-Resolution.git"
      ],
      "execution_count": 33,
      "outputs": [
        {
          "output_type": "stream",
          "text": [
            "Cloning into 'Image-Super-Resolution'...\n",
            "remote: Enumerating objects: 619, done.\u001b[K\n",
            "remote: Total 619 (delta 0), reused 0 (delta 0), pack-reused 619\u001b[K\n",
            "Receiving objects: 100% (619/619), 76.00 MiB | 20.50 MiB/s, done.\n",
            "Resolving deltas: 100% (305/305), done.\n",
            "Checking out files: 100% (172/172), done.\n"
          ],
          "name": "stdout"
        }
      ]
    },
    {
      "cell_type": "code",
      "metadata": {
        "id": "Ta0Ha9dsI8fF",
        "colab_type": "code",
        "colab": {
          "base_uri": "https://localhost:8080/",
          "height": 51
        },
        "outputId": "c649edd2-d8b5-4a05-cbb6-8d28018c9311"
      },
      "source": [
        "ls"
      ],
      "execution_count": 34,
      "outputs": [
        {
          "output_type": "stream",
          "text": [
            "deep_learning_turkey.ipynb  mnist_cnn.py     Untitled1.ipynb\n",
            "\u001b[0m\u001b[01;34mImage-Super-Resolution\u001b[0m/     Untitled0.ipynb\n"
          ],
          "name": "stdout"
        }
      ]
    },
    {
      "cell_type": "code",
      "metadata": {
        "id": "3kFESS0JI-jS",
        "colab_type": "code",
        "colab": {}
      },
      "source": [
        "rm -r Untitled1.ipynb"
      ],
      "execution_count": 0,
      "outputs": []
    },
    {
      "cell_type": "code",
      "metadata": {
        "id": "Iq7VSmtmJD64",
        "colab_type": "code",
        "colab": {
          "base_uri": "https://localhost:8080/",
          "height": 51
        },
        "outputId": "6f8739ab-3921-456b-9ad4-b013a1d6663e"
      },
      "source": [
        "ls"
      ],
      "execution_count": 36,
      "outputs": [
        {
          "output_type": "stream",
          "text": [
            "deep_learning_turkey.ipynb  mnist_cnn.py\n",
            "\u001b[0m\u001b[01;34mImage-Super-Resolution\u001b[0m/     Untitled0.ipynb\n"
          ],
          "name": "stdout"
        }
      ]
    },
    {
      "cell_type": "code",
      "metadata": {
        "id": "d0SCUPzvJEgD",
        "colab_type": "code",
        "colab": {}
      },
      "source": [
        "rm -r Untitled0.ipynb"
      ],
      "execution_count": 0,
      "outputs": []
    },
    {
      "cell_type": "code",
      "metadata": {
        "id": "ve39lakhJHB3",
        "colab_type": "code",
        "colab": {
          "base_uri": "https://localhost:8080/",
          "height": 34
        },
        "outputId": "58adfaff-a55a-4d64-9a64-aebfa9e4b220"
      },
      "source": [
        "ls"
      ],
      "execution_count": 38,
      "outputs": [
        {
          "output_type": "stream",
          "text": [
            "deep_learning_turkey.ipynb  \u001b[0m\u001b[01;34mImage-Super-Resolution\u001b[0m/  mnist_cnn.py\n"
          ],
          "name": "stdout"
        }
      ]
    },
    {
      "cell_type": "code",
      "metadata": {
        "id": "Pn_Ji_GlJHkc",
        "colab_type": "code",
        "colab": {
          "base_uri": "https://localhost:8080/",
          "height": 34
        },
        "outputId": "b9aa2d22-d9db-477f-88d5-1672d1b62350"
      },
      "source": [
        "import tensorflow as tf\n",
        "tf.test.gpu_device_name()"
      ],
      "execution_count": 39,
      "outputs": [
        {
          "output_type": "execute_result",
          "data": {
            "text/plain": [
              "'/device:GPU:0'"
            ]
          },
          "metadata": {
            "tags": []
          },
          "execution_count": 39
        }
      ]
    },
    {
      "cell_type": "code",
      "metadata": {
        "id": "yRl8U4PYJifq",
        "colab_type": "code",
        "colab": {
          "base_uri": "https://localhost:8080/",
          "height": 496
        },
        "outputId": "5edaba41-9d14-41fc-e396-28afc10c8c5a"
      },
      "source": [
        "from tensorflow.python.client import device_lib\n",
        "device_lib.list_local_devices()"
      ],
      "execution_count": 40,
      "outputs": [
        {
          "output_type": "execute_result",
          "data": {
            "text/plain": [
              "[name: \"/device:CPU:0\"\n",
              " device_type: \"CPU\"\n",
              " memory_limit: 268435456\n",
              " locality {\n",
              " }\n",
              " incarnation: 7326057335245884512, name: \"/device:XLA_CPU:0\"\n",
              " device_type: \"XLA_CPU\"\n",
              " memory_limit: 17179869184\n",
              " locality {\n",
              " }\n",
              " incarnation: 9353285884995176141\n",
              " physical_device_desc: \"device: XLA_CPU device\", name: \"/device:XLA_GPU:0\"\n",
              " device_type: \"XLA_GPU\"\n",
              " memory_limit: 17179869184\n",
              " locality {\n",
              " }\n",
              " incarnation: 15401317694271850405\n",
              " physical_device_desc: \"device: XLA_GPU device\", name: \"/device:GPU:0\"\n",
              " device_type: \"GPU\"\n",
              " memory_limit: 14892338381\n",
              " locality {\n",
              "   bus_id: 1\n",
              "   links {\n",
              "   }\n",
              " }\n",
              " incarnation: 1776811120048357257\n",
              " physical_device_desc: \"device: 0, name: Tesla T4, pci bus id: 0000:00:04.0, compute capability: 7.5\"]"
            ]
          },
          "metadata": {
            "tags": []
          },
          "execution_count": 40
        }
      ]
    },
    {
      "cell_type": "code",
      "metadata": {
        "id": "YM9Gt7pPJlJw",
        "colab_type": "code",
        "colab": {}
      },
      "source": [
        ""
      ],
      "execution_count": 0,
      "outputs": []
    }
  ]
}